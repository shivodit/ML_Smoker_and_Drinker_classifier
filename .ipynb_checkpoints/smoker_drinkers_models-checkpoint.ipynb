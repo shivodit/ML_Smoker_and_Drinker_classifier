{
 "cells": [
  {
   "cell_type": "markdown",
   "metadata": {},
   "source": [
    "# Smokers and Drinkers"
   ]
  },
  {
   "cell_type": "code",
   "execution_count": 4,
   "metadata": {},
   "outputs": [],
   "source": [
    "# imports \n",
    "import pandas as pd\n",
    "import numpy as np"
   ]
  },
  {
   "cell_type": "code",
   "execution_count": 7,
   "metadata": {},
   "outputs": [
    {
     "name": "stdout",
     "output_type": "stream",
     "text": [
      "<class 'pandas.core.frame.DataFrame'>\n",
      "RangeIndex: 991346 entries, 0 to 991345\n",
      "Data columns (total 24 columns):\n",
      " #   Column            Non-Null Count   Dtype  \n",
      "---  ------            --------------   -----  \n",
      " 0   sex               991346 non-null  object \n",
      " 1   age               991346 non-null  int64  \n",
      " 2   height            991346 non-null  int64  \n",
      " 3   weight            991346 non-null  int64  \n",
      " 4   waistline         991346 non-null  float64\n",
      " 5   sight_left        991346 non-null  float64\n",
      " 6   sight_right       991346 non-null  float64\n",
      " 7   hear_left         991346 non-null  int64  \n",
      " 8   hear_right        991346 non-null  int64  \n",
      " 9   SBP               991346 non-null  int64  \n",
      " 10  DBP               991346 non-null  int64  \n",
      " 11  BLDS              991346 non-null  int64  \n",
      " 12  tot_chole         991346 non-null  int64  \n",
      " 13  HDL_chole         991346 non-null  int64  \n",
      " 14  LDL_chole         991346 non-null  int64  \n",
      " 15  triglyceride      991346 non-null  int64  \n",
      " 16  hemoglobin        991346 non-null  float64\n",
      " 17  urine_protein     991346 non-null  int64  \n",
      " 18  serum_creatinine  991346 non-null  float64\n",
      " 19  SGOT_AST          991346 non-null  int64  \n",
      " 20  SGOT_ALT          991346 non-null  int64  \n",
      " 21  gamma_GTP         991346 non-null  int64  \n",
      " 22  SMK_stat_type_cd  991346 non-null  int64  \n",
      " 23  DRK_YN            991346 non-null  object \n",
      "dtypes: float64(5), int64(17), object(2)\n",
      "memory usage: 181.5+ MB\n",
      "None\n",
      "\n",
      "                 age         height         weight      waistline  \\\n",
      "count  991346.000000  991346.000000  991346.000000  991346.000000   \n",
      "mean       47.614491     162.240625      63.284050      81.233358   \n",
      "std        14.181339       9.282957      12.514241      11.850323   \n",
      "min        20.000000     130.000000      25.000000       8.000000   \n",
      "25%        35.000000     155.000000      55.000000      74.100000   \n",
      "50%        45.000000     160.000000      60.000000      81.000000   \n",
      "75%        60.000000     170.000000      70.000000      87.800000   \n",
      "max        85.000000     190.000000     140.000000     999.000000   \n",
      "\n",
      "          sight_left    sight_right      hear_left     hear_right  \\\n",
      "count  991346.000000  991346.000000  991346.000000  991346.000000   \n",
      "mean        0.980834       0.978429       1.031495       1.030476   \n",
      "std         0.605949       0.604774       0.174650       0.171892   \n",
      "min         0.100000       0.100000       1.000000       1.000000   \n",
      "25%         0.700000       0.700000       1.000000       1.000000   \n",
      "50%         1.000000       1.000000       1.000000       1.000000   \n",
      "75%         1.200000       1.200000       1.000000       1.000000   \n",
      "max         9.900000       9.900000       2.000000       2.000000   \n",
      "\n",
      "                 SBP            DBP  ...      HDL_chole      LDL_chole  \\\n",
      "count  991346.000000  991346.000000  ...  991346.000000  991346.000000   \n",
      "mean      122.432498      76.052627  ...      56.936800     113.037692   \n",
      "std        14.543148       9.889365  ...      17.238479      35.842812   \n",
      "min        67.000000      32.000000  ...       1.000000       1.000000   \n",
      "25%       112.000000      70.000000  ...      46.000000      89.000000   \n",
      "50%       120.000000      76.000000  ...      55.000000     111.000000   \n",
      "75%       131.000000      82.000000  ...      66.000000     135.000000   \n",
      "max       273.000000     185.000000  ...    8110.000000    5119.000000   \n",
      "\n",
      "        triglyceride     hemoglobin  urine_protein  serum_creatinine  \\\n",
      "count  991346.000000  991346.000000  991346.000000     991346.000000   \n",
      "mean      132.141751      14.229824       1.094224          0.860467   \n",
      "std       102.196985       1.584929       0.437724          0.480530   \n",
      "min         1.000000       1.000000       1.000000          0.100000   \n",
      "25%        73.000000      13.200000       1.000000          0.700000   \n",
      "50%       106.000000      14.300000       1.000000          0.800000   \n",
      "75%       159.000000      15.400000       1.000000          1.000000   \n",
      "max      9490.000000      25.000000       6.000000         98.000000   \n",
      "\n",
      "            SGOT_AST       SGOT_ALT      gamma_GTP  SMK_stat_type_cd  \n",
      "count  991346.000000  991346.000000  991346.000000     991346.000000  \n",
      "mean       25.989308      25.755051      37.136347          1.608122  \n",
      "std        23.493386      26.308599      50.424153          0.818507  \n",
      "min         1.000000       1.000000       1.000000          1.000000  \n",
      "25%        19.000000      15.000000      16.000000          1.000000  \n",
      "50%        23.000000      20.000000      23.000000          1.000000  \n",
      "75%        28.000000      29.000000      39.000000          2.000000  \n",
      "max      9999.000000    7210.000000     999.000000          3.000000  \n",
      "\n",
      "[8 rows x 22 columns]\n",
      "(array([], dtype=int64), array([], dtype=int64))\n"
     ]
    }
   ],
   "source": [
    "# Printing summary of data to look at how many \n",
    "df_comp = pd.read_csv('smoking_driking_dataset_Ver01.csv')\n",
    "print(df_comp.info(),df_comp.describe(),sep=\"\\n\\n\")\n",
    "# columns which contain missing values\n",
    "print(np.where(pd.isnull(df_comp)))"
   ]
  },
  {
   "cell_type": "markdown",
   "metadata": {},
   "source": [
    "### Data overview\n",
    "As we observe we have - 5 columns of type float64, 17 columns of type int64, and 2 object columns.<br>\n",
    "The DataFrame can't detect any null values which implies there are no missing values, however nothing can be said about anomalous values yet. <br>\n",
    "The Data isn't normalized and features' means and standard deviations differ a lot, necessitating normalization of feature. Also, we will convert the object columns to their numerical representation for easier processing using one-hot encoding or label-encoding."
   ]
  },
  {
   "cell_type": "code",
   "execution_count": null,
   "metadata": {},
   "outputs": [],
   "source": []
  }
 ],
 "metadata": {
  "kernelspec": {
   "display_name": "Python 3 (ipykernel)",
   "language": "python",
   "name": "python3"
  },
  "language_info": {
   "codemirror_mode": {
    "name": "ipython",
    "version": 3
   },
   "file_extension": ".py",
   "mimetype": "text/x-python",
   "name": "python",
   "nbconvert_exporter": "python",
   "pygments_lexer": "ipython3",
   "version": "3.11.2"
  }
 },
 "nbformat": 4,
 "nbformat_minor": 4
}
